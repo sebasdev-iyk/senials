{
 "cells": [
  {
   "cell_type": "code",
   "execution_count": 1,
   "id": "2f33dad7-6a0d-40bf-a12f-21695fdc4219",
   "metadata": {},
   "outputs": [],
   "source": [
    "import cv2\n",
    "import mediapipe as mp\n",
    "import os\n",
    "import numpy as np"
   ]
  },
  {
   "cell_type": "code",
   "execution_count": 2,
   "id": "9d2918dc-268e-4456-b461-bb2a945470e1",
   "metadata": {},
   "outputs": [],
   "source": [
    "hands = mp.solutions.hands.Hands(\n",
    "    static_image_mode=True,\n",
    "    max_num_hands=1,\n",
    "    min_detection_confidence=0.5\n",
    ")"
   ]
  },
  {
   "cell_type": "code",
   "execution_count": 3,
   "id": "243bf3db-c723-4312-aee4-0c128fbe0f56",
   "metadata": {},
   "outputs": [],
   "source": [
    "manos = \"C:/Users/sebastian/limpio/primera parte/pipe_entrenamiento/pipe5/manos\""
   ]
  },
  {
   "cell_type": "code",
   "execution_count": 4,
   "id": "5a38717b-6f00-405d-a2c8-0f10ed67ccc0",
   "metadata": {},
   "outputs": [],
   "source": [
    "data = []\n",
    "labels = []"
   ]
  },
  {
   "cell_type": "code",
   "execution_count": 5,
   "id": "cb12c39f-a86d-43e7-a8ba-89697f8f1309",
   "metadata": {},
   "outputs": [],
   "source": [
    "def extract_landmarks(image_path, label):\n",
    "  imagen = cv2.imread(image_path)\n",
    "  imagen_rgb = cv2.cvtColor(imagen, cv2.COLOR_BGR2RGB)\n",
    "  result = hands.process(imagen_rgb)\n",
    "\n",
    "  if result.multi_hand_landmarks:\n",
    "    for hand_landmarks in result.multi_hand_landmarks:\n",
    "      landmarks = []\n",
    "      for landmark in hand_landmarks.landmark:\n",
    "        landmarks.extend([landmark.x, landmark.y, landmark.z])\n",
    "      data.append(landmarks)\n",
    "      labels.append(label)\n",
    "     \n",
    "gesture_folders = [f for f in os.listdir(manos) if os.path.isdir(os.path.join(manos, f))]\n",
    "\n"
   ]
  },
  {
   "cell_type": "code",
   "execution_count": 6,
   "id": "373a5016-f889-47fc-8dfb-ef8cd8aac3ad",
   "metadata": {},
   "outputs": [
    {
     "name": "stdout",
     "output_type": "stream",
     "text": [
      "Procesando carpeta 'A'...\n",
      "Procesando carpeta 'B'...\n",
      "Procesando carpeta 'C'...\n",
      "Procesando carpeta 'D'...\n",
      "Procesando carpeta 'E'...\n",
      "Procesando carpeta 'F'...\n",
      "Procesando carpeta 'G'...\n",
      "Procesando carpeta 'H'...\n",
      "Procesando carpeta 'I'...\n",
      "Procesando carpeta 'J'...\n",
      "Procesando carpeta 'K'...\n",
      "Procesando carpeta 'L'...\n",
      "Procesando carpeta 'M'...\n",
      "Procesando carpeta 'N'...\n",
      "Procesando carpeta 'O'...\n",
      "Procesando carpeta 'P'...\n",
      "Procesando carpeta 'Q'...\n",
      "Procesando carpeta 'R'...\n",
      "Procesando carpeta 'S'...\n",
      "Procesando carpeta 'T'...\n",
      "Procesando carpeta 'U'...\n",
      "Procesando carpeta 'V'...\n",
      "Procesando carpeta 'W'...\n",
      "Procesando carpeta 'X'...\n",
      "Procesando carpeta 'Y'...\n",
      "Procesando carpeta 'Z'...\n"
     ]
    }
   ],
   "source": [
    "for label in gesture_folders:\n",
    "  folder_path = os.path.join(manos, label)\n",
    "  print(f\"Procesando carpeta '{label}'...\")\n",
    "  for filename in os.listdir(folder_path):\n",
    "    image_path = os.path.join(folder_path, filename)\n",
    "    extract_landmarks(image_path, label)"
   ]
  },
  {
   "cell_type": "code",
   "execution_count": 7,
   "id": "539d2944-9c2f-49ef-9e16-e5cb7d4507c5",
   "metadata": {},
   "outputs": [
    {
     "name": "stdout",
     "output_type": "stream",
     "text": [
      "Datos guardados: 60347 muestras, 63 características por muestra.\n",
      "Etiquetas guardadas: 26 clases únicas -> ['A' 'B' 'C' 'D' 'E' 'F' 'G' 'H' 'I' 'J' 'K' 'L' 'M' 'N' 'O' 'P' 'Q' 'R'\n",
      " 'S' 'T' 'U' 'V' 'W' 'X' 'Y' 'Z']\n"
     ]
    }
   ],
   "source": [
    "X = np.array(data, dtype=np.float32)\n",
    "y = np.array(labels)\n",
    "print(f\"Datos guardados: {X.shape[0]} muestras, {X.shape[1]} características por muestra.\")\n",
    "print(f\"Etiquetas guardadas: {len(np.unique(y))} clases únicas -> {np.unique(y)}\")"
   ]
  },
  {
   "cell_type": "code",
   "execution_count": 51,
   "id": "058f2674-533f-4584-aa01-54d4604cba81",
   "metadata": {},
   "outputs": [],
   "source": [
    "np.save(\"X_hand_landmarks.npy\", X)\n",
    "np.save(\"y_labels.npy\", y)"
   ]
  },
  {
   "cell_type": "code",
   "execution_count": 29,
   "id": "e288c4fa-7a06-4051-8b23-19f66f6e46f1",
   "metadata": {},
   "outputs": [],
   "source": [
    "import tensorflow as tf\n",
    "from tensorflow import keras\n",
    "from sklearn.model_selection import train_test_split\n",
    "from sklearn.preprocessing import LabelEncoder\n",
    "from sklearn.metrics import classification_report\n",
    "import json"
   ]
  },
  {
   "cell_type": "code",
   "execution_count": 30,
   "id": "c916b8b5-3120-4463-aed0-2da5552ba780",
   "metadata": {},
   "outputs": [
    {
     "name": "stdout",
     "output_type": "stream",
     "text": [
      "Datos cargados: 60347 muestras, 26 clases\n"
     ]
    }
   ],
   "source": [
    "print(f\"Datos cargados: {X.shape[0]} muestras, {len(np.unique(y))} clases\")\n"
   ]
  },
  {
   "cell_type": "code",
   "execution_count": 31,
   "id": "38426e7f-7592-4eae-9a3c-5c40cb34f239",
   "metadata": {},
   "outputs": [],
   "source": [
    "def normalize_hand_landmarks(landmarks_batch):\n",
    "    \n",
    "    normalized_batch = np.zeros_like(landmarks_batch)\n",
    "    \n",
    "    for i in range(landmarks_batch.shape[0]):\n",
    "        landmarks = landmarks_batch[i].reshape(21, 3)\n",
    "        \n",
    "        # Usar la muñeca como punto de referencia (más estable para ASL)\n",
    "        wrist = landmarks[0].copy()\n",
    "        landmarks_relative = landmarks - wrist\n",
    "        \n",
    "        # Calcular escala usando los dedos (excluyendo muñeca)\n",
    "        finger_points = landmarks_relative[1:]\n",
    "        distances = np.linalg.norm(finger_points, axis=1)\n",
    "        max_distance = np.max(distances)\n",
    "        \n",
    "        # Normalizar si hay movimiento\n",
    "        if max_distance > 1e-6:\n",
    "            landmarks_relative = landmarks_relative / max_distance\n",
    "        \n",
    "        normalized_batch[i] = landmarks_relative.flatten()\n",
    "    \n",
    "    return normalized_batch"
   ]
  },
  {
   "cell_type": "code",
   "execution_count": 32,
   "id": "6ea02d64-5536-44cb-996e-e37946ca45c0",
   "metadata": {},
   "outputs": [
    {
     "name": "stdout",
     "output_type": "stream",
     "text": [
      "🔄 Normalizando landmarks...\n"
     ]
    }
   ],
   "source": [
    "# Normalizar landmarks\n",
    "print(\"🔄 Normalizando landmarks...\")\n",
    "X_normalized = normalize_hand_landmarks(X)\n"
   ]
  },
  {
   "cell_type": "code",
   "execution_count": 33,
   "id": "3be6ca6a-e182-4a74-bd3d-98d570a44372",
   "metadata": {},
   "outputs": [],
   "source": [
    "# Preparar etiquetas para ASL A-Z\n",
    "le = LabelEncoder()\n",
    "y_encoded = le.fit_transform(y)\n"
   ]
  },
  {
   "cell_type": "code",
   "execution_count": 34,
   "id": "fd43188b-cf85-47be-92a1-99b125bfe86b",
   "metadata": {},
   "outputs": [
    {
     "name": "stdout",
     "output_type": "stream",
     "text": [
      "📊 Clases detectadas: 26\n",
      "Letras: ['A', 'B', 'C', 'D', 'E', 'F', 'G', 'H', 'I', 'J', 'K', 'L', 'M', 'N', 'O', 'P', 'Q', 'R', 'S', 'T', 'U', 'V', 'W', 'X', 'Y', 'Z']\n"
     ]
    }
   ],
   "source": [
    "# Verificar que tenemos 26 clases (A-Z)\n",
    "n_classes = len(le.classes_)\n",
    "print(f\"📊 Clases detectadas: {n_classes}\")\n",
    "print(f\"Letras: {sorted(le.classes_)}\")\n"
   ]
  },
  {
   "cell_type": "code",
   "execution_count": 35,
   "id": "9d0cd97e-eea7-4ca1-a522-fb573e7a9e69",
   "metadata": {},
   "outputs": [],
   "source": [
    "if n_classes != 26:\n",
    "    print(f\"⚠️  Advertencia: Se esperaban 26 clases, se encontraron {n_classes}\")\n"
   ]
  },
  {
   "cell_type": "code",
   "execution_count": 36,
   "id": "545094cd-5fcd-490c-af9f-b18c25d39bce",
   "metadata": {},
   "outputs": [],
   "source": [
    "# División estratificada de datos\n",
    "X_train, X_test, y_train, y_test = train_test_split(\n",
    "    X_normalized, y_encoded, \n",
    "    test_size=0.15,  # Más datos para entrenamiento\n",
    "    random_state=42, \n",
    "    stratify=y_encoded\n",
    ")"
   ]
  },
  {
   "cell_type": "code",
   "execution_count": 37,
   "id": "95b4d018-fc1f-4c32-ae02-3db5d82468c6",
   "metadata": {},
   "outputs": [
    {
     "name": "stdout",
     "output_type": "stream",
     "text": [
      "📊 Train: 51294 muestras | Test: 9053 muestras\n"
     ]
    }
   ],
   "source": [
    "print(f\"📊 Train: {X_train.shape[0]} muestras | Test: {X_test.shape[0]} muestras\")\n",
    "# Modelo optimizado para ASL\n",
    "def create_asl_model(input_dim, n_classes):\n",
    "    \"\"\"\n",
    "    Arquitectura optimizada para reconocimiento ASL\n",
    "    \"\"\"\n",
    "    model = keras.Sequential([\n",
    "        # Input layer con normalización adicional\n",
    "        keras.layers.Input(shape=(input_dim,)),\n",
    "        keras.layers.BatchNormalization(),\n",
    "        \n",
    "        # Capas principales\n",
    "        keras.layers.Dense(256, activation='relu'),\n",
    "        keras.layers.Dropout(0.4),\n",
    "        keras.layers.BatchNormalization(),\n",
    "        \n",
    "        keras.layers.Dense(128, activation='relu'),\n",
    "        keras.layers.Dropout(0.3),\n",
    "        keras.layers.BatchNormalization(),\n",
    "        \n",
    "        keras.layers.Dense(64, activation='relu'),\n",
    "        keras.layers.Dropout(0.2),\n",
    "        \n",
    "        # Output layer\n",
    "        keras.layers.Dense(n_classes, activation='softmax', name='predictions')\n",
    "    ])\n",
    "    \n",
    "    return model"
   ]
  },
  {
   "cell_type": "code",
   "execution_count": 38,
   "id": "d3243cbe-2998-41a7-a7ac-74b32c2ccde6",
   "metadata": {},
   "outputs": [],
   "source": [
    "# Crear modelo\n",
    "model = create_asl_model(X_train.shape[1], n_classes)\n"
   ]
  },
  {
   "cell_type": "code",
   "execution_count": 39,
   "id": "9f878036-b2d6-430a-92f0-ac7fa5f53782",
   "metadata": {},
   "outputs": [],
   "source": [
    "model.compile(\n",
    "    optimizer=keras.optimizers.Adam(learning_rate=0.001),\n",
    "    loss='sparse_categorical_crossentropy',\n",
    "    metrics=['accuracy'] \n",
    ")"
   ]
  },
  {
   "cell_type": "code",
   "execution_count": 40,
   "id": "92bac027-5fa0-4d47-8229-d5daa269a0a9",
   "metadata": {},
   "outputs": [
    {
     "name": "stdout",
     "output_type": "stream",
     "text": [
      "\n",
      "🏗️  Arquitectura del modelo:\n"
     ]
    },
    {
     "data": {
      "text/html": [
       "<pre style=\"white-space:pre;overflow-x:auto;line-height:normal;font-family:Menlo,'DejaVu Sans Mono',consolas,'Courier New',monospace\"><span style=\"font-weight: bold\">Model: \"sequential_1\"</span>\n",
       "</pre>\n"
      ],
      "text/plain": [
       "\u001b[1mModel: \"sequential_1\"\u001b[0m\n"
      ]
     },
     "metadata": {},
     "output_type": "display_data"
    },
    {
     "data": {
      "text/html": [
       "<pre style=\"white-space:pre;overflow-x:auto;line-height:normal;font-family:Menlo,'DejaVu Sans Mono',consolas,'Courier New',monospace\">┏━━━━━━━━━━━━━━━━━━━━━━━━━━━━━━━━━━━━━━┳━━━━━━━━━━━━━━━━━━━━━━━━━━━━━┳━━━━━━━━━━━━━━━━━┓\n",
       "┃<span style=\"font-weight: bold\"> Layer (type)                         </span>┃<span style=\"font-weight: bold\"> Output Shape                </span>┃<span style=\"font-weight: bold\">         Param # </span>┃\n",
       "┡━━━━━━━━━━━━━━━━━━━━━━━━━━━━━━━━━━━━━━╇━━━━━━━━━━━━━━━━━━━━━━━━━━━━━╇━━━━━━━━━━━━━━━━━┩\n",
       "│ batch_normalization_3                │ (<span style=\"color: #00d7ff; text-decoration-color: #00d7ff\">None</span>, <span style=\"color: #00af00; text-decoration-color: #00af00\">63</span>)                  │             <span style=\"color: #00af00; text-decoration-color: #00af00\">252</span> │\n",
       "│ (<span style=\"color: #0087ff; text-decoration-color: #0087ff\">BatchNormalization</span>)                 │                             │                 │\n",
       "├──────────────────────────────────────┼─────────────────────────────┼─────────────────┤\n",
       "│ dense_3 (<span style=\"color: #0087ff; text-decoration-color: #0087ff\">Dense</span>)                      │ (<span style=\"color: #00d7ff; text-decoration-color: #00d7ff\">None</span>, <span style=\"color: #00af00; text-decoration-color: #00af00\">256</span>)                 │          <span style=\"color: #00af00; text-decoration-color: #00af00\">16,384</span> │\n",
       "├──────────────────────────────────────┼─────────────────────────────┼─────────────────┤\n",
       "│ dropout_3 (<span style=\"color: #0087ff; text-decoration-color: #0087ff\">Dropout</span>)                  │ (<span style=\"color: #00d7ff; text-decoration-color: #00d7ff\">None</span>, <span style=\"color: #00af00; text-decoration-color: #00af00\">256</span>)                 │               <span style=\"color: #00af00; text-decoration-color: #00af00\">0</span> │\n",
       "├──────────────────────────────────────┼─────────────────────────────┼─────────────────┤\n",
       "│ batch_normalization_4                │ (<span style=\"color: #00d7ff; text-decoration-color: #00d7ff\">None</span>, <span style=\"color: #00af00; text-decoration-color: #00af00\">256</span>)                 │           <span style=\"color: #00af00; text-decoration-color: #00af00\">1,024</span> │\n",
       "│ (<span style=\"color: #0087ff; text-decoration-color: #0087ff\">BatchNormalization</span>)                 │                             │                 │\n",
       "├──────────────────────────────────────┼─────────────────────────────┼─────────────────┤\n",
       "│ dense_4 (<span style=\"color: #0087ff; text-decoration-color: #0087ff\">Dense</span>)                      │ (<span style=\"color: #00d7ff; text-decoration-color: #00d7ff\">None</span>, <span style=\"color: #00af00; text-decoration-color: #00af00\">128</span>)                 │          <span style=\"color: #00af00; text-decoration-color: #00af00\">32,896</span> │\n",
       "├──────────────────────────────────────┼─────────────────────────────┼─────────────────┤\n",
       "│ dropout_4 (<span style=\"color: #0087ff; text-decoration-color: #0087ff\">Dropout</span>)                  │ (<span style=\"color: #00d7ff; text-decoration-color: #00d7ff\">None</span>, <span style=\"color: #00af00; text-decoration-color: #00af00\">128</span>)                 │               <span style=\"color: #00af00; text-decoration-color: #00af00\">0</span> │\n",
       "├──────────────────────────────────────┼─────────────────────────────┼─────────────────┤\n",
       "│ batch_normalization_5                │ (<span style=\"color: #00d7ff; text-decoration-color: #00d7ff\">None</span>, <span style=\"color: #00af00; text-decoration-color: #00af00\">128</span>)                 │             <span style=\"color: #00af00; text-decoration-color: #00af00\">512</span> │\n",
       "│ (<span style=\"color: #0087ff; text-decoration-color: #0087ff\">BatchNormalization</span>)                 │                             │                 │\n",
       "├──────────────────────────────────────┼─────────────────────────────┼─────────────────┤\n",
       "│ dense_5 (<span style=\"color: #0087ff; text-decoration-color: #0087ff\">Dense</span>)                      │ (<span style=\"color: #00d7ff; text-decoration-color: #00d7ff\">None</span>, <span style=\"color: #00af00; text-decoration-color: #00af00\">64</span>)                  │           <span style=\"color: #00af00; text-decoration-color: #00af00\">8,256</span> │\n",
       "├──────────────────────────────────────┼─────────────────────────────┼─────────────────┤\n",
       "│ dropout_5 (<span style=\"color: #0087ff; text-decoration-color: #0087ff\">Dropout</span>)                  │ (<span style=\"color: #00d7ff; text-decoration-color: #00d7ff\">None</span>, <span style=\"color: #00af00; text-decoration-color: #00af00\">64</span>)                  │               <span style=\"color: #00af00; text-decoration-color: #00af00\">0</span> │\n",
       "├──────────────────────────────────────┼─────────────────────────────┼─────────────────┤\n",
       "│ predictions (<span style=\"color: #0087ff; text-decoration-color: #0087ff\">Dense</span>)                  │ (<span style=\"color: #00d7ff; text-decoration-color: #00d7ff\">None</span>, <span style=\"color: #00af00; text-decoration-color: #00af00\">26</span>)                  │           <span style=\"color: #00af00; text-decoration-color: #00af00\">1,690</span> │\n",
       "└──────────────────────────────────────┴─────────────────────────────┴─────────────────┘\n",
       "</pre>\n"
      ],
      "text/plain": [
       "┏━━━━━━━━━━━━━━━━━━━━━━━━━━━━━━━━━━━━━━┳━━━━━━━━━━━━━━━━━━━━━━━━━━━━━┳━━━━━━━━━━━━━━━━━┓\n",
       "┃\u001b[1m \u001b[0m\u001b[1mLayer (type)                        \u001b[0m\u001b[1m \u001b[0m┃\u001b[1m \u001b[0m\u001b[1mOutput Shape               \u001b[0m\u001b[1m \u001b[0m┃\u001b[1m \u001b[0m\u001b[1m        Param #\u001b[0m\u001b[1m \u001b[0m┃\n",
       "┡━━━━━━━━━━━━━━━━━━━━━━━━━━━━━━━━━━━━━━╇━━━━━━━━━━━━━━━━━━━━━━━━━━━━━╇━━━━━━━━━━━━━━━━━┩\n",
       "│ batch_normalization_3                │ (\u001b[38;5;45mNone\u001b[0m, \u001b[38;5;34m63\u001b[0m)                  │             \u001b[38;5;34m252\u001b[0m │\n",
       "│ (\u001b[38;5;33mBatchNormalization\u001b[0m)                 │                             │                 │\n",
       "├──────────────────────────────────────┼─────────────────────────────┼─────────────────┤\n",
       "│ dense_3 (\u001b[38;5;33mDense\u001b[0m)                      │ (\u001b[38;5;45mNone\u001b[0m, \u001b[38;5;34m256\u001b[0m)                 │          \u001b[38;5;34m16,384\u001b[0m │\n",
       "├──────────────────────────────────────┼─────────────────────────────┼─────────────────┤\n",
       "│ dropout_3 (\u001b[38;5;33mDropout\u001b[0m)                  │ (\u001b[38;5;45mNone\u001b[0m, \u001b[38;5;34m256\u001b[0m)                 │               \u001b[38;5;34m0\u001b[0m │\n",
       "├──────────────────────────────────────┼─────────────────────────────┼─────────────────┤\n",
       "│ batch_normalization_4                │ (\u001b[38;5;45mNone\u001b[0m, \u001b[38;5;34m256\u001b[0m)                 │           \u001b[38;5;34m1,024\u001b[0m │\n",
       "│ (\u001b[38;5;33mBatchNormalization\u001b[0m)                 │                             │                 │\n",
       "├──────────────────────────────────────┼─────────────────────────────┼─────────────────┤\n",
       "│ dense_4 (\u001b[38;5;33mDense\u001b[0m)                      │ (\u001b[38;5;45mNone\u001b[0m, \u001b[38;5;34m128\u001b[0m)                 │          \u001b[38;5;34m32,896\u001b[0m │\n",
       "├──────────────────────────────────────┼─────────────────────────────┼─────────────────┤\n",
       "│ dropout_4 (\u001b[38;5;33mDropout\u001b[0m)                  │ (\u001b[38;5;45mNone\u001b[0m, \u001b[38;5;34m128\u001b[0m)                 │               \u001b[38;5;34m0\u001b[0m │\n",
       "├──────────────────────────────────────┼─────────────────────────────┼─────────────────┤\n",
       "│ batch_normalization_5                │ (\u001b[38;5;45mNone\u001b[0m, \u001b[38;5;34m128\u001b[0m)                 │             \u001b[38;5;34m512\u001b[0m │\n",
       "│ (\u001b[38;5;33mBatchNormalization\u001b[0m)                 │                             │                 │\n",
       "├──────────────────────────────────────┼─────────────────────────────┼─────────────────┤\n",
       "│ dense_5 (\u001b[38;5;33mDense\u001b[0m)                      │ (\u001b[38;5;45mNone\u001b[0m, \u001b[38;5;34m64\u001b[0m)                  │           \u001b[38;5;34m8,256\u001b[0m │\n",
       "├──────────────────────────────────────┼─────────────────────────────┼─────────────────┤\n",
       "│ dropout_5 (\u001b[38;5;33mDropout\u001b[0m)                  │ (\u001b[38;5;45mNone\u001b[0m, \u001b[38;5;34m64\u001b[0m)                  │               \u001b[38;5;34m0\u001b[0m │\n",
       "├──────────────────────────────────────┼─────────────────────────────┼─────────────────┤\n",
       "│ predictions (\u001b[38;5;33mDense\u001b[0m)                  │ (\u001b[38;5;45mNone\u001b[0m, \u001b[38;5;34m26\u001b[0m)                  │           \u001b[38;5;34m1,690\u001b[0m │\n",
       "└──────────────────────────────────────┴─────────────────────────────┴─────────────────┘\n"
      ]
     },
     "metadata": {},
     "output_type": "display_data"
    },
    {
     "data": {
      "text/html": [
       "<pre style=\"white-space:pre;overflow-x:auto;line-height:normal;font-family:Menlo,'DejaVu Sans Mono',consolas,'Courier New',monospace\"><span style=\"font-weight: bold\"> Total params: </span><span style=\"color: #00af00; text-decoration-color: #00af00\">61,014</span> (238.34 KB)\n",
       "</pre>\n"
      ],
      "text/plain": [
       "\u001b[1m Total params: \u001b[0m\u001b[38;5;34m61,014\u001b[0m (238.34 KB)\n"
      ]
     },
     "metadata": {},
     "output_type": "display_data"
    },
    {
     "data": {
      "text/html": [
       "<pre style=\"white-space:pre;overflow-x:auto;line-height:normal;font-family:Menlo,'DejaVu Sans Mono',consolas,'Courier New',monospace\"><span style=\"font-weight: bold\"> Trainable params: </span><span style=\"color: #00af00; text-decoration-color: #00af00\">60,120</span> (234.84 KB)\n",
       "</pre>\n"
      ],
      "text/plain": [
       "\u001b[1m Trainable params: \u001b[0m\u001b[38;5;34m60,120\u001b[0m (234.84 KB)\n"
      ]
     },
     "metadata": {},
     "output_type": "display_data"
    },
    {
     "data": {
      "text/html": [
       "<pre style=\"white-space:pre;overflow-x:auto;line-height:normal;font-family:Menlo,'DejaVu Sans Mono',consolas,'Courier New',monospace\"><span style=\"font-weight: bold\"> Non-trainable params: </span><span style=\"color: #00af00; text-decoration-color: #00af00\">894</span> (3.49 KB)\n",
       "</pre>\n"
      ],
      "text/plain": [
       "\u001b[1m Non-trainable params: \u001b[0m\u001b[38;5;34m894\u001b[0m (3.49 KB)\n"
      ]
     },
     "metadata": {},
     "output_type": "display_data"
    }
   ],
   "source": [
    "print(\"\\n🏗️  Arquitectura del modelo:\")\n",
    "model.summary()"
   ]
  },
  {
   "cell_type": "code",
   "execution_count": 41,
   "id": "20c92486-8665-4cbb-8aea-216b79589664",
   "metadata": {},
   "outputs": [],
   "source": [
    "# Callbacks mejorados\n",
    "callbacks = [\n",
    "    keras.callbacks.EarlyStopping(\n",
    "        monitor='val_accuracy',\n",
    "        patience=15,\n",
    "        restore_best_weights=True,\n",
    "        verbose=1\n",
    "    ),\n",
    "    keras.callbacks.ReduceLROnPlateau(\n",
    "        monitor='val_loss',\n",
    "        factor=0.5,\n",
    "        patience=8,\n",
    "        min_lr=1e-6,\n",
    "        verbose=1\n",
    "    )\n",
    "]"
   ]
  },
  {
   "cell_type": "code",
   "execution_count": 42,
   "id": "437def3c-277b-4926-86d8-7d8ddda05053",
   "metadata": {
    "scrolled": true
   },
   "outputs": [
    {
     "name": "stdout",
     "output_type": "stream",
     "text": [
      "\n",
      "🚀 Entrenando modelo ASL...\n",
      "Epoch 1/100\n",
      "\u001b[1m642/642\u001b[0m \u001b[32m━━━━━━━━━━━━━━━━━━━━\u001b[0m\u001b[37m\u001b[0m \u001b[1m11s\u001b[0m 10ms/step - accuracy: 0.6570 - loss: 1.1894 - val_accuracy: 0.9685 - val_loss: 0.1121 - learning_rate: 0.0010\n",
      "Epoch 2/100\n",
      "\u001b[1m642/642\u001b[0m \u001b[32m━━━━━━━━━━━━━━━━━━━━\u001b[0m\u001b[37m\u001b[0m \u001b[1m6s\u001b[0m 9ms/step - accuracy: 0.9334 - loss: 0.2177 - val_accuracy: 0.9751 - val_loss: 0.0866 - learning_rate: 0.0010\n",
      "Epoch 3/100\n",
      "\u001b[1m642/642\u001b[0m \u001b[32m━━━━━━━━━━━━━━━━━━━━\u001b[0m\u001b[37m\u001b[0m \u001b[1m10s\u001b[0m 8ms/step - accuracy: 0.9445 - loss: 0.1763 - val_accuracy: 0.9744 - val_loss: 0.0784 - learning_rate: 0.0010\n",
      "Epoch 4/100\n",
      "\u001b[1m642/642\u001b[0m \u001b[32m━━━━━━━━━━━━━━━━━━━━\u001b[0m\u001b[37m\u001b[0m \u001b[1m10s\u001b[0m 8ms/step - accuracy: 0.9536 - loss: 0.1538 - val_accuracy: 0.9752 - val_loss: 0.0685 - learning_rate: 0.0010\n",
      "Epoch 5/100\n",
      "\u001b[1m642/642\u001b[0m \u001b[32m━━━━━━━━━━━━━━━━━━━━\u001b[0m\u001b[37m\u001b[0m \u001b[1m6s\u001b[0m 9ms/step - accuracy: 0.9599 - loss: 0.1347 - val_accuracy: 0.9839 - val_loss: 0.0617 - learning_rate: 0.0010\n",
      "Epoch 6/100\n",
      "\u001b[1m642/642\u001b[0m \u001b[32m━━━━━━━━━━━━━━━━━━━━\u001b[0m\u001b[37m\u001b[0m \u001b[1m6s\u001b[0m 9ms/step - accuracy: 0.9640 - loss: 0.1236 - val_accuracy: 0.9839 - val_loss: 0.0544 - learning_rate: 0.0010\n",
      "Epoch 7/100\n",
      "\u001b[1m642/642\u001b[0m \u001b[32m━━━━━━━━━━━━━━━━━━━━\u001b[0m\u001b[37m\u001b[0m \u001b[1m11s\u001b[0m 9ms/step - accuracy: 0.9649 - loss: 0.1155 - val_accuracy: 0.9835 - val_loss: 0.0549 - learning_rate: 0.0010\n",
      "Epoch 8/100\n",
      "\u001b[1m642/642\u001b[0m \u001b[32m━━━━━━━━━━━━━━━━━━━━\u001b[0m\u001b[37m\u001b[0m \u001b[1m10s\u001b[0m 10ms/step - accuracy: 0.9680 - loss: 0.1052 - val_accuracy: 0.9832 - val_loss: 0.0527 - learning_rate: 0.0010\n",
      "Epoch 9/100\n",
      "\u001b[1m642/642\u001b[0m \u001b[32m━━━━━━━━━━━━━━━━━━━━\u001b[0m\u001b[37m\u001b[0m \u001b[1m10s\u001b[0m 9ms/step - accuracy: 0.9653 - loss: 0.1101 - val_accuracy: 0.9845 - val_loss: 0.0486 - learning_rate: 0.0010\n",
      "Epoch 10/100\n",
      "\u001b[1m642/642\u001b[0m \u001b[32m━━━━━━━━━━━━━━━━━━━━\u001b[0m\u001b[37m\u001b[0m \u001b[1m6s\u001b[0m 9ms/step - accuracy: 0.9699 - loss: 0.0942 - val_accuracy: 0.9853 - val_loss: 0.0511 - learning_rate: 0.0010\n",
      "Epoch 11/100\n",
      "\u001b[1m642/642\u001b[0m \u001b[32m━━━━━━━━━━━━━━━━━━━━\u001b[0m\u001b[37m\u001b[0m \u001b[1m10s\u001b[0m 8ms/step - accuracy: 0.9703 - loss: 0.0976 - val_accuracy: 0.9852 - val_loss: 0.0455 - learning_rate: 0.0010\n",
      "Epoch 12/100\n",
      "\u001b[1m642/642\u001b[0m \u001b[32m━━━━━━━━━━━━━━━━━━━━\u001b[0m\u001b[37m\u001b[0m \u001b[1m11s\u001b[0m 10ms/step - accuracy: 0.9694 - loss: 0.1011 - val_accuracy: 0.9821 - val_loss: 0.0517 - learning_rate: 0.0010\n",
      "Epoch 13/100\n",
      "\u001b[1m642/642\u001b[0m \u001b[32m━━━━━━━━━━━━━━━━━━━━\u001b[0m\u001b[37m\u001b[0m \u001b[1m10s\u001b[0m 9ms/step - accuracy: 0.9693 - loss: 0.0968 - val_accuracy: 0.9852 - val_loss: 0.0453 - learning_rate: 0.0010\n",
      "Epoch 14/100\n",
      "\u001b[1m642/642\u001b[0m \u001b[32m━━━━━━━━━━━━━━━━━━━━\u001b[0m\u001b[37m\u001b[0m \u001b[1m10s\u001b[0m 9ms/step - accuracy: 0.9696 - loss: 0.0931 - val_accuracy: 0.9842 - val_loss: 0.0468 - learning_rate: 0.0010\n",
      "Epoch 15/100\n",
      "\u001b[1m642/642\u001b[0m \u001b[32m━━━━━━━━━━━━━━━━━━━━\u001b[0m\u001b[37m\u001b[0m \u001b[1m10s\u001b[0m 9ms/step - accuracy: 0.9737 - loss: 0.0850 - val_accuracy: 0.9865 - val_loss: 0.0420 - learning_rate: 0.0010\n",
      "Epoch 16/100\n",
      "\u001b[1m642/642\u001b[0m \u001b[32m━━━━━━━━━━━━━━━━━━━━\u001b[0m\u001b[37m\u001b[0m \u001b[1m10s\u001b[0m 9ms/step - accuracy: 0.9715 - loss: 0.0924 - val_accuracy: 0.9839 - val_loss: 0.0475 - learning_rate: 0.0010\n",
      "Epoch 17/100\n",
      "\u001b[1m642/642\u001b[0m \u001b[32m━━━━━━━━━━━━━━━━━━━━\u001b[0m\u001b[37m\u001b[0m \u001b[1m6s\u001b[0m 9ms/step - accuracy: 0.9724 - loss: 0.0889 - val_accuracy: 0.9851 - val_loss: 0.0456 - learning_rate: 0.0010\n",
      "Epoch 18/100\n",
      "\u001b[1m642/642\u001b[0m \u001b[32m━━━━━━━━━━━━━━━━━━━━\u001b[0m\u001b[37m\u001b[0m \u001b[1m11s\u001b[0m 9ms/step - accuracy: 0.9737 - loss: 0.0853 - val_accuracy: 0.9886 - val_loss: 0.0409 - learning_rate: 0.0010\n",
      "Epoch 19/100\n",
      "\u001b[1m642/642\u001b[0m \u001b[32m━━━━━━━━━━━━━━━━━━━━\u001b[0m\u001b[37m\u001b[0m \u001b[1m10s\u001b[0m 9ms/step - accuracy: 0.9746 - loss: 0.0820 - val_accuracy: 0.9871 - val_loss: 0.0385 - learning_rate: 0.0010\n",
      "Epoch 20/100\n",
      "\u001b[1m642/642\u001b[0m \u001b[32m━━━━━━━━━━━━━━━━━━━━\u001b[0m\u001b[37m\u001b[0m \u001b[1m6s\u001b[0m 9ms/step - accuracy: 0.9727 - loss: 0.0857 - val_accuracy: 0.9887 - val_loss: 0.0378 - learning_rate: 0.0010\n",
      "Epoch 21/100\n",
      "\u001b[1m642/642\u001b[0m \u001b[32m━━━━━━━━━━━━━━━━━━━━\u001b[0m\u001b[37m\u001b[0m \u001b[1m11s\u001b[0m 10ms/step - accuracy: 0.9761 - loss: 0.0759 - val_accuracy: 0.9875 - val_loss: 0.0392 - learning_rate: 0.0010\n",
      "Epoch 22/100\n",
      "\u001b[1m642/642\u001b[0m \u001b[32m━━━━━━━━━━━━━━━━━━━━\u001b[0m\u001b[37m\u001b[0m \u001b[1m10s\u001b[0m 10ms/step - accuracy: 0.9750 - loss: 0.0824 - val_accuracy: 0.9862 - val_loss: 0.0417 - learning_rate: 0.0010\n",
      "Epoch 23/100\n",
      "\u001b[1m642/642\u001b[0m \u001b[32m━━━━━━━━━━━━━━━━━━━━\u001b[0m\u001b[37m\u001b[0m \u001b[1m10s\u001b[0m 10ms/step - accuracy: 0.9761 - loss: 0.0758 - val_accuracy: 0.9884 - val_loss: 0.0362 - learning_rate: 0.0010\n",
      "Epoch 24/100\n",
      "\u001b[1m642/642\u001b[0m \u001b[32m━━━━━━━━━━━━━━━━━━━━\u001b[0m\u001b[37m\u001b[0m \u001b[1m6s\u001b[0m 10ms/step - accuracy: 0.9780 - loss: 0.0710 - val_accuracy: 0.9877 - val_loss: 0.0396 - learning_rate: 0.0010\n",
      "Epoch 25/100\n",
      "\u001b[1m642/642\u001b[0m \u001b[32m━━━━━━━━━━━━━━━━━━━━\u001b[0m\u001b[37m\u001b[0m \u001b[1m6s\u001b[0m 10ms/step - accuracy: 0.9770 - loss: 0.0746 - val_accuracy: 0.9876 - val_loss: 0.0393 - learning_rate: 0.0010\n",
      "Epoch 26/100\n",
      "\u001b[1m642/642\u001b[0m \u001b[32m━━━━━━━━━━━━━━━━━━━━\u001b[0m\u001b[37m\u001b[0m \u001b[1m10s\u001b[0m 9ms/step - accuracy: 0.9775 - loss: 0.0730 - val_accuracy: 0.9889 - val_loss: 0.0363 - learning_rate: 0.0010\n",
      "Epoch 27/100\n",
      "\u001b[1m642/642\u001b[0m \u001b[32m━━━━━━━━━━━━━━━━━━━━\u001b[0m\u001b[37m\u001b[0m \u001b[1m11s\u001b[0m 10ms/step - accuracy: 0.9783 - loss: 0.0721 - val_accuracy: 0.9892 - val_loss: 0.0342 - learning_rate: 0.0010\n",
      "Epoch 28/100\n",
      "\u001b[1m642/642\u001b[0m \u001b[32m━━━━━━━━━━━━━━━━━━━━\u001b[0m\u001b[37m\u001b[0m \u001b[1m9s\u001b[0m 9ms/step - accuracy: 0.9783 - loss: 0.0717 - val_accuracy: 0.9895 - val_loss: 0.0362 - learning_rate: 0.0010\n",
      "Epoch 29/100\n",
      "\u001b[1m642/642\u001b[0m \u001b[32m━━━━━━━━━━━━━━━━━━━━\u001b[0m\u001b[37m\u001b[0m \u001b[1m10s\u001b[0m 9ms/step - accuracy: 0.9747 - loss: 0.0808 - val_accuracy: 0.9903 - val_loss: 0.0327 - learning_rate: 0.0010\n",
      "Epoch 30/100\n",
      "\u001b[1m642/642\u001b[0m \u001b[32m━━━━━━━━━━━━━━━━━━━━\u001b[0m\u001b[37m\u001b[0m \u001b[1m6s\u001b[0m 10ms/step - accuracy: 0.9768 - loss: 0.0702 - val_accuracy: 0.9893 - val_loss: 0.0337 - learning_rate: 0.0010\n",
      "Epoch 31/100\n",
      "\u001b[1m642/642\u001b[0m \u001b[32m━━━━━━━━━━━━━━━━━━━━\u001b[0m\u001b[37m\u001b[0m \u001b[1m10s\u001b[0m 9ms/step - accuracy: 0.9791 - loss: 0.0670 - val_accuracy: 0.9894 - val_loss: 0.0340 - learning_rate: 0.0010\n",
      "Epoch 32/100\n",
      "\u001b[1m642/642\u001b[0m \u001b[32m━━━━━━━━━━━━━━━━━━━━\u001b[0m\u001b[37m\u001b[0m \u001b[1m10s\u001b[0m 9ms/step - accuracy: 0.9783 - loss: 0.0676 - val_accuracy: 0.9903 - val_loss: 0.0323 - learning_rate: 0.0010\n",
      "Epoch 33/100\n",
      "\u001b[1m642/642\u001b[0m \u001b[32m━━━━━━━━━━━━━━━━━━━━\u001b[0m\u001b[37m\u001b[0m \u001b[1m11s\u001b[0m 10ms/step - accuracy: 0.9781 - loss: 0.0701 - val_accuracy: 0.9903 - val_loss: 0.0314 - learning_rate: 0.0010\n",
      "Epoch 34/100\n",
      "\u001b[1m642/642\u001b[0m \u001b[32m━━━━━━━━━━━━━━━━━━━━\u001b[0m\u001b[37m\u001b[0m \u001b[1m9s\u001b[0m 8ms/step - accuracy: 0.9796 - loss: 0.0667 - val_accuracy: 0.9910 - val_loss: 0.0323 - learning_rate: 0.0010\n",
      "Epoch 35/100\n",
      "\u001b[1m642/642\u001b[0m \u001b[32m━━━━━━━━━━━━━━━━━━━━\u001b[0m\u001b[37m\u001b[0m \u001b[1m5s\u001b[0m 8ms/step - accuracy: 0.9782 - loss: 0.0667 - val_accuracy: 0.9901 - val_loss: 0.0325 - learning_rate: 0.0010\n",
      "Epoch 36/100\n",
      "\u001b[1m642/642\u001b[0m \u001b[32m━━━━━━━━━━━━━━━━━━━━\u001b[0m\u001b[37m\u001b[0m \u001b[1m11s\u001b[0m 10ms/step - accuracy: 0.9806 - loss: 0.0707 - val_accuracy: 0.9905 - val_loss: 0.0322 - learning_rate: 0.0010\n",
      "Epoch 37/100\n",
      "\u001b[1m642/642\u001b[0m \u001b[32m━━━━━━━━━━━━━━━━━━━━\u001b[0m\u001b[37m\u001b[0m \u001b[1m10s\u001b[0m 10ms/step - accuracy: 0.9802 - loss: 0.0629 - val_accuracy: 0.9908 - val_loss: 0.0298 - learning_rate: 0.0010\n",
      "Epoch 38/100\n",
      "\u001b[1m642/642\u001b[0m \u001b[32m━━━━━━━━━━━━━━━━━━━━\u001b[0m\u001b[37m\u001b[0m \u001b[1m10s\u001b[0m 9ms/step - accuracy: 0.9804 - loss: 0.0622 - val_accuracy: 0.9908 - val_loss: 0.0320 - learning_rate: 0.0010\n",
      "Epoch 39/100\n",
      "\u001b[1m642/642\u001b[0m \u001b[32m━━━━━━━━━━━━━━━━━━━━\u001b[0m\u001b[37m\u001b[0m \u001b[1m10s\u001b[0m 9ms/step - accuracy: 0.9806 - loss: 0.0616 - val_accuracy: 0.9892 - val_loss: 0.0330 - learning_rate: 0.0010\n",
      "Epoch 40/100\n",
      "\u001b[1m642/642\u001b[0m \u001b[32m━━━━━━━━━━━━━━━━━━━━\u001b[0m\u001b[37m\u001b[0m \u001b[1m12s\u001b[0m 10ms/step - accuracy: 0.9781 - loss: 0.0678 - val_accuracy: 0.9898 - val_loss: 0.0340 - learning_rate: 0.0010\n",
      "Epoch 41/100\n",
      "\u001b[1m642/642\u001b[0m \u001b[32m━━━━━━━━━━━━━━━━━━━━\u001b[0m\u001b[37m\u001b[0m \u001b[1m6s\u001b[0m 10ms/step - accuracy: 0.9811 - loss: 0.0621 - val_accuracy: 0.9899 - val_loss: 0.0337 - learning_rate: 0.0010\n",
      "Epoch 42/100\n",
      "\u001b[1m642/642\u001b[0m \u001b[32m━━━━━━━━━━━━━━━━━━━━\u001b[0m\u001b[37m\u001b[0m \u001b[1m6s\u001b[0m 9ms/step - accuracy: 0.9792 - loss: 0.0684 - val_accuracy: 0.9898 - val_loss: 0.0335 - learning_rate: 0.0010\n",
      "Epoch 43/100\n",
      "\u001b[1m642/642\u001b[0m \u001b[32m━━━━━━━━━━━━━━━━━━━━\u001b[0m\u001b[37m\u001b[0m \u001b[1m10s\u001b[0m 8ms/step - accuracy: 0.9813 - loss: 0.0580 - val_accuracy: 0.9901 - val_loss: 0.0315 - learning_rate: 0.0010\n",
      "Epoch 44/100\n",
      "\u001b[1m642/642\u001b[0m \u001b[32m━━━━━━━━━━━━━━━━━━━━\u001b[0m\u001b[37m\u001b[0m \u001b[1m11s\u001b[0m 9ms/step - accuracy: 0.9819 - loss: 0.0601 - val_accuracy: 0.9911 - val_loss: 0.0319 - learning_rate: 0.0010\n",
      "Epoch 45/100\n",
      "\u001b[1m636/642\u001b[0m \u001b[32m━━━━━━━━━━━━━━━━━━━\u001b[0m\u001b[37m━\u001b[0m \u001b[1m0s\u001b[0m 8ms/step - accuracy: 0.9814 - loss: 0.0588\n",
      "Epoch 45: ReduceLROnPlateau reducing learning rate to 0.0005000000237487257.\n",
      "\u001b[1m642/642\u001b[0m \u001b[32m━━━━━━━━━━━━━━━━━━━━\u001b[0m\u001b[37m\u001b[0m \u001b[1m10s\u001b[0m 10ms/step - accuracy: 0.9814 - loss: 0.0588 - val_accuracy: 0.9906 - val_loss: 0.0330 - learning_rate: 0.0010\n",
      "Epoch 46/100\n",
      "\u001b[1m642/642\u001b[0m \u001b[32m━━━━━━━━━━━━━━━━━━━━\u001b[0m\u001b[37m\u001b[0m \u001b[1m11s\u001b[0m 10ms/step - accuracy: 0.9838 - loss: 0.0518 - val_accuracy: 0.9919 - val_loss: 0.0286 - learning_rate: 5.0000e-04\n",
      "Epoch 47/100\n",
      "\u001b[1m642/642\u001b[0m \u001b[32m━━━━━━━━━━━━━━━━━━━━\u001b[0m\u001b[37m\u001b[0m \u001b[1m10s\u001b[0m 9ms/step - accuracy: 0.9847 - loss: 0.0503 - val_accuracy: 0.9918 - val_loss: 0.0289 - learning_rate: 5.0000e-04\n",
      "Epoch 48/100\n",
      "\u001b[1m642/642\u001b[0m \u001b[32m━━━━━━━━━━━━━━━━━━━━\u001b[0m\u001b[37m\u001b[0m \u001b[1m10s\u001b[0m 9ms/step - accuracy: 0.9834 - loss: 0.0518 - val_accuracy: 0.9917 - val_loss: 0.0282 - learning_rate: 5.0000e-04\n",
      "Epoch 49/100\n",
      "\u001b[1m642/642\u001b[0m \u001b[32m━━━━━━━━━━━━━━━━━━━━\u001b[0m\u001b[37m\u001b[0m \u001b[1m11s\u001b[0m 10ms/step - accuracy: 0.9850 - loss: 0.0513 - val_accuracy: 0.9920 - val_loss: 0.0282 - learning_rate: 5.0000e-04\n",
      "Epoch 50/100\n",
      "\u001b[1m642/642\u001b[0m \u001b[32m━━━━━━━━━━━━━━━━━━━━\u001b[0m\u001b[37m\u001b[0m \u001b[1m10s\u001b[0m 9ms/step - accuracy: 0.9839 - loss: 0.0505 - val_accuracy: 0.9918 - val_loss: 0.0278 - learning_rate: 5.0000e-04\n",
      "Epoch 51/100\n",
      "\u001b[1m642/642\u001b[0m \u001b[32m━━━━━━━━━━━━━━━━━━━━\u001b[0m\u001b[37m\u001b[0m \u001b[1m6s\u001b[0m 10ms/step - accuracy: 0.9843 - loss: 0.0506 - val_accuracy: 0.9916 - val_loss: 0.0282 - learning_rate: 5.0000e-04\n",
      "Epoch 52/100\n",
      "\u001b[1m642/642\u001b[0m \u001b[32m━━━━━━━━━━━━━━━━━━━━\u001b[0m\u001b[37m\u001b[0m \u001b[1m10s\u001b[0m 9ms/step - accuracy: 0.9858 - loss: 0.0469 - val_accuracy: 0.9927 - val_loss: 0.0269 - learning_rate: 5.0000e-04\n",
      "Epoch 53/100\n",
      "\u001b[1m642/642\u001b[0m \u001b[32m━━━━━━━━━━━━━━━━━━━━\u001b[0m\u001b[37m\u001b[0m \u001b[1m6s\u001b[0m 10ms/step - accuracy: 0.9861 - loss: 0.0446 - val_accuracy: 0.9914 - val_loss: 0.0297 - learning_rate: 5.0000e-04\n",
      "Epoch 54/100\n",
      "\u001b[1m642/642\u001b[0m \u001b[32m━━━━━━━━━━━━━━━━━━━━\u001b[0m\u001b[37m\u001b[0m \u001b[1m6s\u001b[0m 10ms/step - accuracy: 0.9849 - loss: 0.0484 - val_accuracy: 0.9925 - val_loss: 0.0277 - learning_rate: 5.0000e-04\n",
      "Epoch 55/100\n",
      "\u001b[1m642/642\u001b[0m \u001b[32m━━━━━━━━━━━━━━━━━━━━\u001b[0m\u001b[37m\u001b[0m \u001b[1m10s\u001b[0m 9ms/step - accuracy: 0.9857 - loss: 0.0437 - val_accuracy: 0.9922 - val_loss: 0.0268 - learning_rate: 5.0000e-04\n",
      "Epoch 56/100\n",
      "\u001b[1m642/642\u001b[0m \u001b[32m━━━━━━━━━━━━━━━━━━━━\u001b[0m\u001b[37m\u001b[0m \u001b[1m6s\u001b[0m 10ms/step - accuracy: 0.9867 - loss: 0.0437 - val_accuracy: 0.9922 - val_loss: 0.0279 - learning_rate: 5.0000e-04\n",
      "Epoch 57/100\n",
      "\u001b[1m642/642\u001b[0m \u001b[32m━━━━━━━━━━━━━━━━━━━━\u001b[0m\u001b[37m\u001b[0m \u001b[1m9s\u001b[0m 9ms/step - accuracy: 0.9870 - loss: 0.0444 - val_accuracy: 0.9922 - val_loss: 0.0278 - learning_rate: 5.0000e-04\n",
      "Epoch 58/100\n",
      "\u001b[1m642/642\u001b[0m \u001b[32m━━━━━━━━━━━━━━━━━━━━\u001b[0m\u001b[37m\u001b[0m \u001b[1m5s\u001b[0m 8ms/step - accuracy: 0.9859 - loss: 0.0447 - val_accuracy: 0.9929 - val_loss: 0.0261 - learning_rate: 5.0000e-04\n",
      "Epoch 59/100\n",
      "\u001b[1m642/642\u001b[0m \u001b[32m━━━━━━━━━━━━━━━━━━━━\u001b[0m\u001b[37m\u001b[0m \u001b[1m6s\u001b[0m 10ms/step - accuracy: 0.9867 - loss: 0.0427 - val_accuracy: 0.9923 - val_loss: 0.0277 - learning_rate: 5.0000e-04\n",
      "Epoch 60/100\n",
      "\u001b[1m642/642\u001b[0m \u001b[32m━━━━━━━━━━━━━━━━━━━━\u001b[0m\u001b[37m\u001b[0m \u001b[1m10s\u001b[0m 10ms/step - accuracy: 0.9848 - loss: 0.0478 - val_accuracy: 0.9926 - val_loss: 0.0262 - learning_rate: 5.0000e-04\n",
      "Epoch 61/100\n",
      "\u001b[1m642/642\u001b[0m \u001b[32m━━━━━━━━━━━━━━━━━━━━\u001b[0m\u001b[37m\u001b[0m \u001b[1m10s\u001b[0m 10ms/step - accuracy: 0.9857 - loss: 0.0463 - val_accuracy: 0.9916 - val_loss: 0.0284 - learning_rate: 5.0000e-04\n",
      "Epoch 62/100\n",
      "\u001b[1m642/642\u001b[0m \u001b[32m━━━━━━━━━━━━━━━━━━━━\u001b[0m\u001b[37m\u001b[0m \u001b[1m10s\u001b[0m 10ms/step - accuracy: 0.9853 - loss: 0.0503 - val_accuracy: 0.9926 - val_loss: 0.0265 - learning_rate: 5.0000e-04\n",
      "Epoch 63/100\n",
      "\u001b[1m642/642\u001b[0m \u001b[32m━━━━━━━━━━━━━━━━━━━━\u001b[0m\u001b[37m\u001b[0m \u001b[1m10s\u001b[0m 10ms/step - accuracy: 0.9843 - loss: 0.0495 - val_accuracy: 0.9933 - val_loss: 0.0257 - learning_rate: 5.0000e-04\n",
      "Epoch 64/100\n",
      "\u001b[1m642/642\u001b[0m \u001b[32m━━━━━━━━━━━━━━━━━━━━\u001b[0m\u001b[37m\u001b[0m \u001b[1m6s\u001b[0m 10ms/step - accuracy: 0.9866 - loss: 0.0407 - val_accuracy: 0.9930 - val_loss: 0.0264 - learning_rate: 5.0000e-04\n",
      "Epoch 65/100\n",
      "\u001b[1m642/642\u001b[0m \u001b[32m━━━━━━━━━━━━━━━━━━━━\u001b[0m\u001b[37m\u001b[0m \u001b[1m10s\u001b[0m 9ms/step - accuracy: 0.9850 - loss: 0.0467 - val_accuracy: 0.9922 - val_loss: 0.0270 - learning_rate: 5.0000e-04\n",
      "Epoch 66/100\n",
      "\u001b[1m642/642\u001b[0m \u001b[32m━━━━━━━━━━━━━━━━━━━━\u001b[0m\u001b[37m\u001b[0m \u001b[1m10s\u001b[0m 9ms/step - accuracy: 0.9874 - loss: 0.0398 - val_accuracy: 0.9928 - val_loss: 0.0263 - learning_rate: 5.0000e-04\n",
      "Epoch 67/100\n",
      "\u001b[1m642/642\u001b[0m \u001b[32m━━━━━━━━━━━━━━━━━━━━\u001b[0m\u001b[37m\u001b[0m \u001b[1m10s\u001b[0m 9ms/step - accuracy: 0.9852 - loss: 0.0449 - val_accuracy: 0.9934 - val_loss: 0.0257 - learning_rate: 5.0000e-04\n",
      "Epoch 68/100\n",
      "\u001b[1m642/642\u001b[0m \u001b[32m━━━━━━━━━━━━━━━━━━━━\u001b[0m\u001b[37m\u001b[0m \u001b[1m11s\u001b[0m 10ms/step - accuracy: 0.9873 - loss: 0.0399 - val_accuracy: 0.9927 - val_loss: 0.0267 - learning_rate: 5.0000e-04\n",
      "Epoch 69/100\n",
      "\u001b[1m642/642\u001b[0m \u001b[32m━━━━━━━━━━━━━━━━━━━━\u001b[0m\u001b[37m\u001b[0m \u001b[1m11s\u001b[0m 10ms/step - accuracy: 0.9868 - loss: 0.0430 - val_accuracy: 0.9935 - val_loss: 0.0265 - learning_rate: 5.0000e-04\n",
      "Epoch 70/100\n",
      "\u001b[1m642/642\u001b[0m \u001b[32m━━━━━━━━━━━━━━━━━━━━\u001b[0m\u001b[37m\u001b[0m \u001b[1m10s\u001b[0m 10ms/step - accuracy: 0.9870 - loss: 0.0416 - val_accuracy: 0.9934 - val_loss: 0.0269 - learning_rate: 5.0000e-04\n",
      "Epoch 71/100\n",
      "\u001b[1m640/642\u001b[0m \u001b[32m━━━━━━━━━━━━━━━━━━━\u001b[0m\u001b[37m━\u001b[0m \u001b[1m0s\u001b[0m 7ms/step - accuracy: 0.9874 - loss: 0.0373\n",
      "Epoch 71: ReduceLROnPlateau reducing learning rate to 0.0002500000118743628.\n",
      "\u001b[1m642/642\u001b[0m \u001b[32m━━━━━━━━━━━━━━━━━━━━\u001b[0m\u001b[37m\u001b[0m \u001b[1m6s\u001b[0m 9ms/step - accuracy: 0.9874 - loss: 0.0373 - val_accuracy: 0.9929 - val_loss: 0.0258 - learning_rate: 5.0000e-04\n",
      "Epoch 72/100\n",
      "\u001b[1m642/642\u001b[0m \u001b[32m━━━━━━━━━━━━━━━━━━━━\u001b[0m\u001b[37m\u001b[0m \u001b[1m10s\u001b[0m 9ms/step - accuracy: 0.9887 - loss: 0.0387 - val_accuracy: 0.9930 - val_loss: 0.0256 - learning_rate: 2.5000e-04\n",
      "Epoch 73/100\n",
      "\u001b[1m642/642\u001b[0m \u001b[32m━━━━━━━━━━━━━━━━━━━━\u001b[0m\u001b[37m\u001b[0m \u001b[1m10s\u001b[0m 9ms/step - accuracy: 0.9870 - loss: 0.0406 - val_accuracy: 0.9936 - val_loss: 0.0248 - learning_rate: 2.5000e-04\n",
      "Epoch 74/100\n",
      "\u001b[1m642/642\u001b[0m \u001b[32m━━━━━━━━━━━━━━━━━━━━\u001b[0m\u001b[37m\u001b[0m \u001b[1m10s\u001b[0m 9ms/step - accuracy: 0.9862 - loss: 0.0445 - val_accuracy: 0.9934 - val_loss: 0.0255 - learning_rate: 2.5000e-04\n",
      "Epoch 75/100\n",
      "\u001b[1m642/642\u001b[0m \u001b[32m━━━━━━━━━━━━━━━━━━━━\u001b[0m\u001b[37m\u001b[0m \u001b[1m11s\u001b[0m 10ms/step - accuracy: 0.9878 - loss: 0.0418 - val_accuracy: 0.9935 - val_loss: 0.0250 - learning_rate: 2.5000e-04\n",
      "Epoch 76/100\n",
      "\u001b[1m642/642\u001b[0m \u001b[32m━━━━━━━━━━━━━━━━━━━━\u001b[0m\u001b[37m\u001b[0m \u001b[1m10s\u001b[0m 9ms/step - accuracy: 0.9882 - loss: 0.0377 - val_accuracy: 0.9933 - val_loss: 0.0250 - learning_rate: 2.5000e-04\n",
      "Epoch 77/100\n",
      "\u001b[1m642/642\u001b[0m \u001b[32m━━━━━━━━━━━━━━━━━━━━\u001b[0m\u001b[37m\u001b[0m \u001b[1m11s\u001b[0m 10ms/step - accuracy: 0.9894 - loss: 0.0328 - val_accuracy: 0.9939 - val_loss: 0.0249 - learning_rate: 2.5000e-04\n",
      "Epoch 78/100\n",
      "\u001b[1m642/642\u001b[0m \u001b[32m━━━━━━━━━━━━━━━━━━━━\u001b[0m\u001b[37m\u001b[0m \u001b[1m10s\u001b[0m 10ms/step - accuracy: 0.9888 - loss: 0.0373 - val_accuracy: 0.9939 - val_loss: 0.0252 - learning_rate: 2.5000e-04\n",
      "Epoch 79/100\n",
      "\u001b[1m642/642\u001b[0m \u001b[32m━━━━━━━━━━━━━━━━━━━━\u001b[0m\u001b[37m\u001b[0m \u001b[1m6s\u001b[0m 10ms/step - accuracy: 0.9882 - loss: 0.0378 - val_accuracy: 0.9935 - val_loss: 0.0253 - learning_rate: 2.5000e-04\n",
      "Epoch 80/100\n",
      "\u001b[1m642/642\u001b[0m \u001b[32m━━━━━━━━━━━━━━━━━━━━\u001b[0m\u001b[37m\u001b[0m \u001b[1m10s\u001b[0m 9ms/step - accuracy: 0.9890 - loss: 0.0361 - val_accuracy: 0.9932 - val_loss: 0.0256 - learning_rate: 2.5000e-04\n",
      "Epoch 81/100\n",
      "\u001b[1m637/642\u001b[0m \u001b[32m━━━━━━━━━━━━━━━━━━━\u001b[0m\u001b[37m━\u001b[0m \u001b[1m0s\u001b[0m 7ms/step - accuracy: 0.9882 - loss: 0.0391\n",
      "Epoch 81: ReduceLROnPlateau reducing learning rate to 0.0001250000059371814.\n",
      "\u001b[1m642/642\u001b[0m \u001b[32m━━━━━━━━━━━━━━━━━━━━\u001b[0m\u001b[37m\u001b[0m \u001b[1m11s\u001b[0m 10ms/step - accuracy: 0.9882 - loss: 0.0391 - val_accuracy: 0.9939 - val_loss: 0.0256 - learning_rate: 2.5000e-04\n",
      "Epoch 82/100\n",
      "\u001b[1m642/642\u001b[0m \u001b[32m━━━━━━━━━━━━━━━━━━━━\u001b[0m\u001b[37m\u001b[0m \u001b[1m10s\u001b[0m 10ms/step - accuracy: 0.9888 - loss: 0.0367 - val_accuracy: 0.9940 - val_loss: 0.0247 - learning_rate: 1.2500e-04\n",
      "Epoch 83/100\n",
      "\u001b[1m642/642\u001b[0m \u001b[32m━━━━━━━━━━━━━━━━━━━━\u001b[0m\u001b[37m\u001b[0m \u001b[1m10s\u001b[0m 9ms/step - accuracy: 0.9894 - loss: 0.0334 - val_accuracy: 0.9931 - val_loss: 0.0255 - learning_rate: 1.2500e-04\n",
      "Epoch 84/100\n",
      "\u001b[1m642/642\u001b[0m \u001b[32m━━━━━━━━━━━━━━━━━━━━\u001b[0m\u001b[37m\u001b[0m \u001b[1m6s\u001b[0m 9ms/step - accuracy: 0.9888 - loss: 0.0353 - val_accuracy: 0.9936 - val_loss: 0.0251 - learning_rate: 1.2500e-04\n",
      "Epoch 85/100\n",
      "\u001b[1m642/642\u001b[0m \u001b[32m━━━━━━━━━━━━━━━━━━━━\u001b[0m\u001b[37m\u001b[0m \u001b[1m6s\u001b[0m 10ms/step - accuracy: 0.9898 - loss: 0.0348 - val_accuracy: 0.9938 - val_loss: 0.0246 - learning_rate: 1.2500e-04\n",
      "Epoch 86/100\n",
      "\u001b[1m642/642\u001b[0m \u001b[32m━━━━━━━━━━━━━━━━━━━━\u001b[0m\u001b[37m\u001b[0m \u001b[1m10s\u001b[0m 9ms/step - accuracy: 0.9883 - loss: 0.0358 - val_accuracy: 0.9936 - val_loss: 0.0254 - learning_rate: 1.2500e-04\n",
      "Epoch 87/100\n",
      "\u001b[1m642/642\u001b[0m \u001b[32m━━━━━━━━━━━━━━━━━━━━\u001b[0m\u001b[37m\u001b[0m \u001b[1m11s\u001b[0m 10ms/step - accuracy: 0.9902 - loss: 0.0325 - val_accuracy: 0.9940 - val_loss: 0.0248 - learning_rate: 1.2500e-04\n",
      "Epoch 88/100\n",
      "\u001b[1m642/642\u001b[0m \u001b[32m━━━━━━━━━━━━━━━━━━━━\u001b[0m\u001b[37m\u001b[0m \u001b[1m10s\u001b[0m 10ms/step - accuracy: 0.9885 - loss: 0.0361 - val_accuracy: 0.9935 - val_loss: 0.0252 - learning_rate: 1.2500e-04\n",
      "Epoch 89/100\n",
      "\u001b[1m642/642\u001b[0m \u001b[32m━━━━━━━━━━━━━━━━━━━━\u001b[0m\u001b[37m\u001b[0m \u001b[1m10s\u001b[0m 9ms/step - accuracy: 0.9899 - loss: 0.0318 - val_accuracy: 0.9934 - val_loss: 0.0251 - learning_rate: 1.2500e-04\n",
      "Epoch 90/100\n",
      "\u001b[1m642/642\u001b[0m \u001b[32m━━━━━━━━━━━━━━━━━━━━\u001b[0m\u001b[37m\u001b[0m \u001b[1m6s\u001b[0m 10ms/step - accuracy: 0.9898 - loss: 0.0342 - val_accuracy: 0.9936 - val_loss: 0.0251 - learning_rate: 1.2500e-04\n",
      "Epoch 91/100\n",
      "\u001b[1m642/642\u001b[0m \u001b[32m━━━━━━━━━━━━━━━━━━━━\u001b[0m\u001b[37m\u001b[0m \u001b[1m6s\u001b[0m 10ms/step - accuracy: 0.9887 - loss: 0.0352 - val_accuracy: 0.9938 - val_loss: 0.0251 - learning_rate: 1.2500e-04\n",
      "Epoch 92/100\n",
      "\u001b[1m642/642\u001b[0m \u001b[32m━━━━━━━━━━━━━━━━━━━━\u001b[0m\u001b[37m\u001b[0m \u001b[1m8s\u001b[0m 12ms/step - accuracy: 0.9887 - loss: 0.0339 - val_accuracy: 0.9934 - val_loss: 0.0249 - learning_rate: 1.2500e-04\n",
      "Epoch 93/100\n",
      "\u001b[1m642/642\u001b[0m \u001b[32m━━━━━━━━━━━━━━━━━━━━\u001b[0m\u001b[37m\u001b[0m \u001b[1m6s\u001b[0m 9ms/step - accuracy: 0.9888 - loss: 0.0340 - val_accuracy: 0.9939 - val_loss: 0.0240 - learning_rate: 1.2500e-04\n",
      "Epoch 94/100\n",
      "\u001b[1m642/642\u001b[0m \u001b[32m━━━━━━━━━━━━━━━━━━━━\u001b[0m\u001b[37m\u001b[0m \u001b[1m7s\u001b[0m 11ms/step - accuracy: 0.9891 - loss: 0.0356 - val_accuracy: 0.9938 - val_loss: 0.0244 - learning_rate: 1.2500e-04\n",
      "Epoch 95/100\n",
      "\u001b[1m642/642\u001b[0m \u001b[32m━━━━━━━━━━━━━━━━━━━━\u001b[0m\u001b[37m\u001b[0m \u001b[1m10s\u001b[0m 10ms/step - accuracy: 0.9906 - loss: 0.0332 - val_accuracy: 0.9937 - val_loss: 0.0245 - learning_rate: 1.2500e-04\n",
      "Epoch 96/100\n",
      "\u001b[1m642/642\u001b[0m \u001b[32m━━━━━━━━━━━━━━━━━━━━\u001b[0m\u001b[37m\u001b[0m \u001b[1m9s\u001b[0m 8ms/step - accuracy: 0.9879 - loss: 0.0382 - val_accuracy: 0.9940 - val_loss: 0.0245 - learning_rate: 1.2500e-04\n",
      "Epoch 97/100\n",
      "\u001b[1m642/642\u001b[0m \u001b[32m━━━━━━━━━━━━━━━━━━━━\u001b[0m\u001b[37m\u001b[0m \u001b[1m11s\u001b[0m 9ms/step - accuracy: 0.9902 - loss: 0.0311 - val_accuracy: 0.9941 - val_loss: 0.0247 - learning_rate: 1.2500e-04\n",
      "Epoch 98/100\n",
      "\u001b[1m642/642\u001b[0m \u001b[32m━━━━━━━━━━━━━━━━━━━━\u001b[0m\u001b[37m\u001b[0m \u001b[1m10s\u001b[0m 9ms/step - accuracy: 0.9889 - loss: 0.0328 - val_accuracy: 0.9938 - val_loss: 0.0248 - learning_rate: 1.2500e-04\n",
      "Epoch 99/100\n",
      "\u001b[1m642/642\u001b[0m \u001b[32m━━━━━━━━━━━━━━━━━━━━\u001b[0m\u001b[37m\u001b[0m \u001b[1m6s\u001b[0m 10ms/step - accuracy: 0.9910 - loss: 0.0307 - val_accuracy: 0.9935 - val_loss: 0.0247 - learning_rate: 1.2500e-04\n",
      "Epoch 100/100\n",
      "\u001b[1m642/642\u001b[0m \u001b[32m━━━━━━━━━━━━━━━━━━━━\u001b[0m\u001b[37m\u001b[0m \u001b[1m7s\u001b[0m 10ms/step - accuracy: 0.9893 - loss: 0.0331 - val_accuracy: 0.9937 - val_loss: 0.0249 - learning_rate: 1.2500e-04\n",
      "Restoring model weights from the end of the best epoch: 97.\n"
     ]
    }
   ],
   "source": [
    "print(\"\\n🚀 Entrenando modelo ASL...\")\n",
    "history = model.fit(\n",
    "    X_train, y_train,\n",
    "    epochs=100,\n",
    "    batch_size=64,  # Batch size mayor para mejor convergencia\n",
    "    validation_split=0.2,\n",
    "    callbacks=callbacks,\n",
    "    verbose=1\n",
    ")"
   ]
  },
  {
   "cell_type": "code",
   "execution_count": 45,
   "id": "56cf3c39-d883-4ba2-859c-46300cf7be7b",
   "metadata": {},
   "outputs": [
    {
     "name": "stderr",
     "output_type": "stream",
     "text": [
      "WARNING:absl:You are saving your model as an HDF5 file via `model.save()` or `keras.saving.save_model(model)`. This file format is considered legacy. We recommend using instead the native Keras format, e.g. `model.save('my_model.keras')` or `keras.saving.save_model(model, 'my_model.keras')`. \n"
     ]
    }
   ],
   "source": [
    "model.save(\"modelo.h5\")"
   ]
  },
  {
   "cell_type": "code",
   "execution_count": 47,
   "id": "8fb5a4ec-82ad-47de-89c6-5c5a00b6fdf7",
   "metadata": {},
   "outputs": [
    {
     "name": "stdout",
     "output_type": "stream",
     "text": [
      "✅ Mapeo de etiquetas guardado como 'labels.json'\n"
     ]
    }
   ],
   "source": [
    "# 3. Guardar el mapeo de etiquetas para usar en JavaScript\n",
    "label_mapping = {i: label for i, label in enumerate(le.classes_)}\n",
    "with open('labels.json', 'w') as f:\n",
    "    json.dump(label_mapping, f)\n",
    "print(\"✅ Mapeo de etiquetas guardado como 'labels.json'\")"
   ]
  },
  {
   "cell_type": "code",
   "execution_count": 48,
   "id": "347f0573-370b-48c6-92aa-ab42db98e3f9",
   "metadata": {},
   "outputs": [
    {
     "name": "stdout",
     "output_type": "stream",
     "text": [
      "✅ Información del modelo guardada como 'model_info.json'\n"
     ]
    }
   ],
   "source": [
    "# 4. Información del modelo para JavaScript\n",
    "model_info = {\n",
    "    'input_shape': X_train.shape[1],\n",
    "    'num_classes': n_classes,\n",
    "    'classes': le.classes_.tolist(),\n",
    "    'normalization_info': {\n",
    "        'type': 'hand_landmarks_relative_to_wrist',\n",
    "        'description': 'Landmarks normalized relative to wrist position and scaled by max finger distance'\n",
    "    }\n",
    "}\n",
    "\n",
    "with open('model_info.json', 'w') as f:\n",
    "    json.dump(model_info, f, indent=2)\n",
    "print(\"✅ Información del modelo guardada como 'model_info.json'\")\n"
   ]
  },
  {
   "cell_type": "code",
   "execution_count": null,
   "id": "cb4daf8c-a61f-4b3a-8c4b-0719f73dcc43",
   "metadata": {},
   "outputs": [],
   "source": []
  }
 ],
 "metadata": {
  "kernelspec": {
   "display_name": "Python 3 (ipykernel)",
   "language": "python",
   "name": "python3"
  },
  "language_info": {
   "codemirror_mode": {
    "name": "ipython",
    "version": 3
   },
   "file_extension": ".py",
   "mimetype": "text/x-python",
   "name": "python",
   "nbconvert_exporter": "python",
   "pygments_lexer": "ipython3",
   "version": "3.12.10"
  }
 },
 "nbformat": 4,
 "nbformat_minor": 5
}
