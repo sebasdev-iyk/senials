{
 "cells": [
  {
   "cell_type": "code",
   "execution_count": 3,
   "id": "5fb5aeb9",
   "metadata": {},
   "outputs": [
    {
     "name": "stdout",
     "output_type": "stream",
     "text": [
      "pip 25.1.1 from /usr/local/python/3.12.1/lib/python3.12/site-packages/pip (python 3.12)\n",
      "Python 3.12.1\n"
     ]
    }
   ],
   "source": [
    "!pip --version\n",
    "!python --version"
   ]
  }
 ],
 "metadata": {
  "kernelspec": {
   "display_name": "Python 3",
   "language": "python",
   "name": "python3"
  },
  "language_info": {
   "codemirror_mode": {
    "name": "ipython",
    "version": 3
   },
   "file_extension": ".py",
   "mimetype": "text/x-python",
   "name": "python",
   "nbconvert_exporter": "python",
   "pygments_lexer": "ipython3",
   "version": "3.12.1"
  }
 },
 "nbformat": 4,
 "nbformat_minor": 5
}
